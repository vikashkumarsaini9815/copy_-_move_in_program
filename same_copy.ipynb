{
 "cells": [
  {
   "cell_type": "markdown",
   "metadata": {},
   "source": [
    "# Total  copy\n",
    "\n",
    "Copy only single and valid file types and will not copy separate content"
   ]
  },
  {
   "cell_type": "code",
   "execution_count": null,
   "metadata": {},
   "outputs": [],
   "source": []
  },
  {
   "cell_type": "code",
   "execution_count": 1,
   "metadata": {},
   "outputs": [],
   "source": [
    "import os, shutil, glob"
   ]
  },
  {
   "cell_type": "code",
   "execution_count": 7,
   "metadata": {},
   "outputs": [],
   "source": [
    "source_path = \"C:/Users/pushp/Desktop/source_data/dk\"\n",
    "dss_path = \"C:/Users/pushp/Desktop/backup_24Jun2022\""
   ]
  },
  {
   "cell_type": "code",
   "execution_count": 23,
   "metadata": {},
   "outputs": [
    {
     "name": "stdout",
     "output_type": "stream",
     "text": [
      "['C:/Users/pushp/Desktop/source_data/dk/Nikhil', 'C:/Users/pushp/Desktop/source_data/dk/Nikhil\\\\Yogesh', 'C:/Users/pushp/Desktop/source_data/dk/Nikhil\\\\Yogesh\\\\vikash']\n"
     ]
    }
   ],
   "source": [
    "listof_dir = []\n",
    "w = os.walk('C:/Users/pushp/Desktop/source_data/dk/Nikhil')\n",
    "for i in w:\n",
    "    listof_dir.append(i[0])\n",
    "print(listof_dir)\n"
   ]
  },
  {
   "cell_type": "code",
   "execution_count": 24,
   "metadata": {},
   "outputs": [
    {
     "name": "stdout",
     "output_type": "stream",
     "text": [
      "['C:/Users/pushp/Desktop/source_data/dk/Nikhil', 'C:/Users/pushp/Desktop/source_data/dk/Nikhil\\\\Yogesh', 'C:/Users/pushp/Desktop/source_data/dk/Nikhil\\\\Yogesh\\\\vikash']\n"
     ]
    }
   ],
   "source": [
    "source_listofdir=[el.replace(dss_path,\"\") for el in listof_dir]\n",
    "print(source_listofdir)"
   ]
  },
  {
   "cell_type": "code",
   "execution_count": 8,
   "metadata": {},
   "outputs": [
    {
     "name": "stdout",
     "output_type": "stream",
     "text": [
      "C:\\Users\\pushp\\Desktop\\source_data\\dk\n"
     ]
    }
   ],
   "source": [
    "change_dir = os.chdir(source_path)\n",
    "print(os.getcwd())"
   ]
  },
  {
   "cell_type": "code",
   "execution_count": 10,
   "metadata": {},
   "outputs": [
    {
     "data": {
      "text/plain": [
       "['C:/Users/pushp/Desktop/source_data/dk\\\\graph_database.txt',\n",
       " 'C:/Users/pushp/Desktop/source_data/dk\\\\hdfc.txt',\n",
       " 'C:/Users/pushp/Desktop/source_data/dk\\\\interview_reply.txt',\n",
       " 'C:/Users/pushp/Desktop/source_data/dk\\\\liitle_intro.txt',\n",
       " 'C:/Users/pushp/Desktop/source_data/dk\\\\New Text Document.txt',\n",
       " 'C:/Users/pushp/Desktop/source_data/dk\\\\proj_wipro.txt',\n",
       " 'C:/Users/pushp/Desktop/source_data/dk\\\\ram.txt',\n",
       " 'C:/Users/pushp/Desktop/source_data/dk\\\\vvv.txt',\n",
       " 'C:/Users/pushp/Desktop/source_data/dk\\\\vvv1.txt',\n",
       " 'C:/Users/pushp/Desktop/source_data/dk\\\\vvv123456.txt',\n",
       " 'C:/Users/pushp/Desktop/source_data/dk\\\\vvv21.txt',\n",
       " 'C:/Users/pushp/Desktop/source_data/dk\\\\vvv25.txt',\n",
       " 'C:/Users/pushp/Desktop/source_data/dk\\\\vvv26.txt',\n",
       " 'C:/Users/pushp/Desktop/source_data/dk\\\\vvv29.txt',\n",
       " 'C:/Users/pushp/Desktop/source_data/dk\\\\vvv295.txt',\n",
       " 'C:/Users/pushp/Desktop/source_data/dk\\\\wipro.txt']"
      ]
     },
     "execution_count": 10,
     "metadata": {},
     "output_type": "execute_result"
    }
   ],
   "source": [
    "listofpy=glob.glob(source_path+\"/*.txt\")\n",
    "listofpy"
   ]
  },
  {
   "cell_type": "code",
   "execution_count": null,
   "metadata": {},
   "outputs": [],
   "source": []
  }
 ],
 "metadata": {
  "kernelspec": {
   "display_name": "Python 3",
   "language": "python",
   "name": "python3"
  },
  "language_info": {
   "codemirror_mode": {
    "name": "ipython",
    "version": 3
   },
   "file_extension": ".py",
   "mimetype": "text/x-python",
   "name": "python",
   "nbconvert_exporter": "python",
   "pygments_lexer": "ipython3",
   "version": "3.8.5"
  }
 },
 "nbformat": 4,
 "nbformat_minor": 4
}
