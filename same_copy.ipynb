{
 "cells": [
  {
   "cell_type": "markdown",
   "metadata": {},
   "source": [
    "# Total  copy\n",
    "\n",
    "Copy only single and valid file types and will not copy separate content"
   ]
  },
  {
   "cell_type": "code",
   "execution_count": null,
   "metadata": {},
   "outputs": [],
   "source": []
  },
  {
   "cell_type": "code",
   "execution_count": 2,
   "metadata": {},
   "outputs": [],
   "source": [
    "import os, shutil, glob"
   ]
  },
  {
   "cell_type": "code",
   "execution_count": 3,
   "metadata": {},
   "outputs": [],
   "source": [
    "source_path = \"C:/Users/pushp/Desktop/source_data/dk\"\n",
    "dss_path = \"C:/Users/pushp/Desktop/backup_24Jun2022\""
   ]
  },
  {
   "cell_type": "code",
   "execution_count": 97,
   "metadata": {},
   "outputs": [
    {
     "data": {
      "text/plain": [
       "[('C:/Users/pushp/Downloads/',\n",
       "  [],\n",
       "  ['desktop.ini',\n",
       "   'email_ans.txt',\n",
       "   'IMG20220514155807.jpg',\n",
       "   'Resume Vikash Kumar Saini.pdf',\n",
       "   'Scan0002.jpg',\n",
       "   'Scan0004.jpg',\n",
       "   'ubuntu-22.04-desktop-amd64.iso',\n",
       "   'Universal-USB-Installer-2.0.1.4.exe',\n",
       "   'viky_photo.jpg'])]"
      ]
     },
     "execution_count": 97,
     "metadata": {},
     "output_type": "execute_result"
    }
   ],
   "source": [
    "listof_directries = []\n",
    "filter_list=[\"pdf\",\"txt\",\"docx\",\"doc\",\"xlxs\",\"xlsm\",\"pem\",\"key\",\"crt\"]\n",
    "folder_name=\"Downloads/\"\n",
    "source_path='C:/Users/pushp/'+folder_name\n",
    "\n",
    "dst_root_path=\"C:/Users/pushp/push_backup/\"\n",
    "w = os.walk(source_path)\n",
    "for i in w:\n",
    "    listof_directries.append(i)\n",
    "\n",
    "\n",
    "listof_directries\n"
   ]
  },
  {
   "cell_type": "code",
   "execution_count": 98,
   "metadata": {},
   "outputs": [
    {
     "name": "stdout",
     "output_type": "stream",
     "text": [
      "\n",
      "dst_path  C:/Users/pushp/push_backup/Downloads//\n",
      "source_file_path C:/Users/pushp/Downloads/desktop.ini\n",
      "dst_file_path C:/Users/pushp/push_backup/Downloads//desktop.ini\n",
      "file_type ini\n",
      "source_file_path C:/Users/pushp/Downloads/email_ans.txt\n",
      "dst_file_path C:/Users/pushp/push_backup/Downloads//email_ans.txt\n",
      "file_type txt\n",
      "source_file_path C:/Users/pushp/Downloads/IMG20220514155807.jpg\n",
      "dst_file_path C:/Users/pushp/push_backup/Downloads//IMG20220514155807.jpg\n",
      "file_type jpg\n",
      "source_file_path C:/Users/pushp/Downloads/Resume Vikash Kumar Saini.pdf\n",
      "dst_file_path C:/Users/pushp/push_backup/Downloads//Resume Vikash Kumar Saini.pdf\n",
      "file_type pdf\n",
      "source_file_path C:/Users/pushp/Downloads/Scan0002.jpg\n",
      "dst_file_path C:/Users/pushp/push_backup/Downloads//Scan0002.jpg\n",
      "file_type jpg\n",
      "source_file_path C:/Users/pushp/Downloads/Scan0004.jpg\n",
      "dst_file_path C:/Users/pushp/push_backup/Downloads//Scan0004.jpg\n",
      "file_type jpg\n",
      "source_file_path C:/Users/pushp/Downloads/ubuntu-22.04-desktop-amd64.iso\n",
      "dst_file_path C:/Users/pushp/push_backup/Downloads//ubuntu-22.04-desktop-amd64.iso\n",
      "file_type iso\n",
      "source_file_path C:/Users/pushp/Downloads/Universal-USB-Installer-2.0.1.4.exe\n",
      "dst_file_path C:/Users/pushp/push_backup/Downloads//Universal-USB-Installer-2.0.1.4.exe\n",
      "file_type exe\n",
      "source_file_path C:/Users/pushp/Downloads/viky_photo.jpg\n",
      "dst_file_path C:/Users/pushp/push_backup/Downloads//viky_photo.jpg\n",
      "file_type jpg\n"
     ]
    }
   ],
   "source": [
    "\n",
    "for dirs in  listof_directries[:]:\n",
    "   \n",
    "    dd=dirs[0].split(folder_name)[-1]\n",
    "    print(dd)\n",
    "    dst_path=dst_root_path+folder_name+dd+\"/\"\n",
    "    print(\"dst_path \",dst_path)\n",
    "    os.makedirs(dst_path,exist_ok=True)\n",
    "   \n",
    "    for iner_dir in dirs[1]:\n",
    "        dst_iner_path=dst_path+iner_dir+\"/\"\n",
    "        print(\"dst_iner_path\",dst_iner_path)\n",
    "        os.makedirs(dst_iner_path,exist_ok=True)\n",
    "        \n",
    "    for file in dirs[2]:\n",
    "        source_file_path=os.path.join(dirs[0],file)\n",
    "        print(\"source_file_path\",source_file_path)\n",
    "        dst_file_path=dst_path+file\n",
    "        print(\"dst_file_path\",dst_file_path)\n",
    "        file_type= file.split(\".\")[-1]\n",
    "        print(\"file_type\",file_type)\n",
    "        if file_type in filter_list:\n",
    "            dest = shutil.copyfile(source_file_path, dst_file_path)\n",
    "        \n",
    "    "
   ]
  },
  {
   "cell_type": "code",
   "execution_count": 87,
   "metadata": {},
   "outputs": [],
   "source": [
    "os.makedirs(\"C:/Users/pushp/push_backup/Desktop//\",exist_ok=True)"
   ]
  },
  {
   "cell_type": "code",
   "execution_count": 32,
   "metadata": {},
   "outputs": [
    {
     "name": "stdout",
     "output_type": "stream",
     "text": [
      "['C:/Users/pushp/Desktop/source_data/dk/Nikhil', 'C:/Users/pushp/Desktop/source_data/dk/Nikhil\\\\Yogesh', 'C:/Users/pushp/Desktop/source_data/dk/Nikhil\\\\Yogesh\\\\vikash']\n",
      "C:/Users/pushp/Desktop/source_data/dk/Nikhil\n",
      "C:/Users/pushp/Desktop/source_data/dk/Nikhil\\Yogesh\n",
      "C:/Users/pushp/Desktop/source_data/dk/Nikhil\\Yogesh\\vikash\n"
     ]
    }
   ],
   "source": [
    "source_listofdir=[el.replace(dss_path,\"\") for el in listof_dir]\n",
    "print(source_listofdir)\n",
    "\n",
    "for folder in source_listofdir:\n",
    "    folder.split(\"/\")\n",
    "    print(folder)"
   ]
  },
  {
   "cell_type": "code",
   "execution_count": 8,
   "metadata": {},
   "outputs": [
    {
     "name": "stdout",
     "output_type": "stream",
     "text": [
      "C:\\Users\\pushp\\Desktop\\source_data\\dk\n"
     ]
    }
   ],
   "source": [
    "change_dir = os.chdir(source_path)\n",
    "print(os.getcwd())"
   ]
  },
  {
   "cell_type": "code",
   "execution_count": 10,
   "metadata": {},
   "outputs": [
    {
     "data": {
      "text/plain": [
       "['C:/Users/pushp/Desktop/source_data/dk\\\\graph_database.txt',\n",
       " 'C:/Users/pushp/Desktop/source_data/dk\\\\hdfc.txt',\n",
       " 'C:/Users/pushp/Desktop/source_data/dk\\\\interview_reply.txt',\n",
       " 'C:/Users/pushp/Desktop/source_data/dk\\\\liitle_intro.txt',\n",
       " 'C:/Users/pushp/Desktop/source_data/dk\\\\New Text Document.txt',\n",
       " 'C:/Users/pushp/Desktop/source_data/dk\\\\proj_wipro.txt',\n",
       " 'C:/Users/pushp/Desktop/source_data/dk\\\\ram.txt',\n",
       " 'C:/Users/pushp/Desktop/source_data/dk\\\\vvv.txt',\n",
       " 'C:/Users/pushp/Desktop/source_data/dk\\\\vvv1.txt',\n",
       " 'C:/Users/pushp/Desktop/source_data/dk\\\\vvv123456.txt',\n",
       " 'C:/Users/pushp/Desktop/source_data/dk\\\\vvv21.txt',\n",
       " 'C:/Users/pushp/Desktop/source_data/dk\\\\vvv25.txt',\n",
       " 'C:/Users/pushp/Desktop/source_data/dk\\\\vvv26.txt',\n",
       " 'C:/Users/pushp/Desktop/source_data/dk\\\\vvv29.txt',\n",
       " 'C:/Users/pushp/Desktop/source_data/dk\\\\vvv295.txt',\n",
       " 'C:/Users/pushp/Desktop/source_data/dk\\\\wipro.txt']"
      ]
     },
     "execution_count": 10,
     "metadata": {},
     "output_type": "execute_result"
    }
   ],
   "source": [
    "listofpy=glob.glob(source_path+\"/*.txt\")\n",
    "listofpy"
   ]
  },
  {
   "cell_type": "code",
   "execution_count": null,
   "metadata": {},
   "outputs": [],
   "source": []
  },
  {
   "cell_type": "code",
   "execution_count": null,
   "metadata": {},
   "outputs": [],
   "source": [
    " "
   ]
  },
  {
   "cell_type": "code",
   "execution_count": null,
   "metadata": {},
   "outputs": [],
   "source": [
    "source_path = \"C:/Users/pushp/Desktop/source_data/dk\"\n",
    "dss_path = \"C:/Users/pushp/Desktop/backup_24Jun2022\""
   ]
  },
  {
   "cell_type": "code",
   "execution_count": 4,
   "metadata": {},
   "outputs": [
    {
     "name": "stdout",
     "output_type": "stream",
     "text": [
      "C:\\Users\\pushp\\PycharmProjects\\copy_move_python_program\n"
     ]
    }
   ],
   "source": [
    "print(os.getcwd())"
   ]
  },
  {
   "cell_type": "code",
   "execution_count": 26,
   "metadata": {},
   "outputs": [
    {
     "name": "stdout",
     "output_type": "stream",
     "text": [
      "C:/Users/pushp/Desktop/source_data/dk\n",
      "C:/Users/pushp/Desktop/source_data/dk\\account\n",
      "C:/Users/pushp/Desktop/source_data/dk\\GeeksforGeeks\n",
      "C:/Users/pushp/Desktop/source_data/dk\\Nikhil\n",
      "C:/Users/pushp/Desktop/source_data/dk\\Nikhil\\Yogesh\n",
      "C:/Users/pushp/Desktop/source_data/dk\\Nikhil\\Yogesh\\vikash\n"
     ]
    }
   ],
   "source": [
    "obj = os.walk('C:/Users/pushp/Desktop/source_data/dk')\n",
    "\n",
    "for i in obj:\n",
    "    print(i[0])"
   ]
  },
  {
   "cell_type": "code",
   "execution_count": null,
   "metadata": {},
   "outputs": [],
   "source": []
  }
 ],
 "metadata": {
  "kernelspec": {
   "display_name": "Python 3",
   "language": "python",
   "name": "python3"
  },
  "language_info": {
   "codemirror_mode": {
    "name": "ipython",
    "version": 3
   },
   "file_extension": ".py",
   "mimetype": "text/x-python",
   "name": "python",
   "nbconvert_exporter": "python",
   "pygments_lexer": "ipython3",
   "version": "3.8.5"
  }
 },
 "nbformat": 4,
 "nbformat_minor": 4
}
