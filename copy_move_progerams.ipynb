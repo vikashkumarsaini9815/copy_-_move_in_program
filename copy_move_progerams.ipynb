{
 "cells": [
  {
   "cell_type": "markdown",
   "metadata": {},
   "source": [
    "# How to copy , move and create dir in python program"
   ]
  },
  {
   "cell_type": "code",
   "execution_count": 4,
   "metadata": {},
   "outputs": [],
   "source": [
    "import os, shutil, glob"
   ]
  },
  {
   "cell_type": "code",
   "execution_count": null,
   "metadata": {},
   "outputs": [],
   "source": []
  },
  {
   "cell_type": "code",
   "execution_count": null,
   "metadata": {},
   "outputs": [],
   "source": [
    "find_path = os.getcwd()\n",
    "print(\"current working directory :-  \", find_path)"
   ]
  },
  {
   "cell_type": "code",
   "execution_count": null,
   "metadata": {},
   "outputs": [],
   "source": []
  },
  {
   "cell_type": "code",
   "execution_count": null,
   "metadata": {},
   "outputs": [],
   "source": [
    "change_path = os.chdir('C:/Users/pushp/desktop/alls_data/') \n",
    "print(\"change working directory\", change_path)"
   ]
  },
  {
   "cell_type": "code",
   "execution_count": null,
   "metadata": {},
   "outputs": [],
   "source": []
  },
  {
   "cell_type": "raw",
   "metadata": {},
   "source": [
    "#  copy, move  only one file any  \n",
    "#  file like (.pdf, .txt, .jpg, png, .mp4, .mp3, more then files)\n"
   ]
  },
  {
   "cell_type": "code",
   "execution_count": 2,
   "metadata": {},
   "outputs": [],
   "source": [
    "def copyfuction(scr, dcr):\n",
    "    file_resive_path = scr\n",
    "    file_drop_path = dcr\n",
    "    shutil.copyfile(file_resive_path, file_drop_path)\n",
    "    data = \"done copy file\"\n",
    "    return data\n",
    "\n",
    "#copyfuction(scr = \"C:/Users/pushp/Desktop/python_copy_data/cc.txt\", dcr = \"C:/Users/pushp/Desktop/vvv25.txt\")"
   ]
  },
  {
   "cell_type": "code",
   "execution_count": null,
   "metadata": {},
   "outputs": [],
   "source": [
    "def movefunction(scr,dcr):\n",
    "    file_resive_path = scr\n",
    "    file_drop_path = dcr\n",
    "    shutil.copyfile(file_resive_path, file_drop_path)\n",
    "    data = \"done move file\"\n",
    "    return data\n",
    "# a = \"C:/Users/pushp/Desktop/python_copy_data/vvv21.txt\"\n",
    "# b = \"C:/Users/pushp/Desktop/vvv21.txt\"\n",
    "# movefunction(b,a)"
   ]
  },
  {
   "cell_type": "code",
   "execution_count": 5,
   "metadata": {},
   "outputs": [
    {
     "name": "stdout",
     "output_type": "stream",
     "text": [
      "what is work in program like copy and move file  :-  copy\n",
      "<class 'str'>\n",
      "you are chusee copy opetion\n",
      "fill your file dir path :- C:/Users/pushp/Desktop/python_copy_data/cc.txt\n",
      "fill your file drop path  :- C:/Users/pushp/Desktop/\n"
     ]
    },
    {
     "ename": "FileNotFoundError",
     "evalue": "[Errno 2] No such file or directory: 'C:/Users/pushp/Desktop/python_copy_data/cc.txt'",
     "output_type": "error",
     "traceback": [
      "\u001b[1;31m----------------------------------------------------\u001b[0m",
      "\u001b[1;31mFileNotFoundError\u001b[0m  Traceback (most recent call last)",
      "\u001b[1;32m<ipython-input-5-aa1e027aaebc>\u001b[0m in \u001b[0;36m<module>\u001b[1;34m\u001b[0m\n\u001b[0;32m      9\u001b[0m         \u001b[0mscr\u001b[0m \u001b[1;33m=\u001b[0m \u001b[1;33m(\u001b[0m\u001b[0minput\u001b[0m\u001b[1;33m(\u001b[0m\u001b[1;34m\"fill your file dir path :- \"\u001b[0m\u001b[1;33m,\u001b[0m \u001b[1;33m)\u001b[0m\u001b[1;33m)\u001b[0m\u001b[1;33m\u001b[0m\u001b[1;33m\u001b[0m\u001b[0m\n\u001b[0;32m     10\u001b[0m         \u001b[0mdcr\u001b[0m \u001b[1;33m=\u001b[0m \u001b[1;33m(\u001b[0m\u001b[0minput\u001b[0m\u001b[1;33m(\u001b[0m\u001b[1;34m\"fill your file drop path  :- \"\u001b[0m\u001b[1;33m,\u001b[0m \u001b[1;33m)\u001b[0m\u001b[1;33m)\u001b[0m\u001b[1;33m\u001b[0m\u001b[1;33m\u001b[0m\u001b[0m\n\u001b[1;32m---> 11\u001b[1;33m         \u001b[0mcopyfuction\u001b[0m\u001b[1;33m(\u001b[0m\u001b[0mscr\u001b[0m\u001b[1;33m,\u001b[0m \u001b[0mdcr\u001b[0m\u001b[1;33m)\u001b[0m\u001b[1;33m\u001b[0m\u001b[1;33m\u001b[0m\u001b[0m\n\u001b[0m\u001b[0;32m     12\u001b[0m         \u001b[0mprint\u001b[0m\u001b[1;33m(\u001b[0m\u001b[1;34m\"done copy\"\u001b[0m\u001b[1;33m)\u001b[0m\u001b[1;33m\u001b[0m\u001b[1;33m\u001b[0m\u001b[0m\n\u001b[0;32m     13\u001b[0m     \u001b[1;32melif\u001b[0m \u001b[0mwork_opetions\u001b[0m \u001b[1;33m==\u001b[0m \u001b[0mcompresin2\u001b[0m\u001b[1;33m:\u001b[0m\u001b[1;33m\u001b[0m\u001b[1;33m\u001b[0m\u001b[0m\n",
      "\u001b[1;32m<ipython-input-2-f45956402a71>\u001b[0m in \u001b[0;36mcopyfuction\u001b[1;34m(scr, dcr)\u001b[0m\n\u001b[0;32m      2\u001b[0m     \u001b[0mfile_resive_path\u001b[0m \u001b[1;33m=\u001b[0m \u001b[0mscr\u001b[0m\u001b[1;33m\u001b[0m\u001b[1;33m\u001b[0m\u001b[0m\n\u001b[0;32m      3\u001b[0m     \u001b[0mfile_drop_path\u001b[0m \u001b[1;33m=\u001b[0m \u001b[0mdcr\u001b[0m\u001b[1;33m\u001b[0m\u001b[1;33m\u001b[0m\u001b[0m\n\u001b[1;32m----> 4\u001b[1;33m     \u001b[0mshutil\u001b[0m\u001b[1;33m.\u001b[0m\u001b[0mcopyfile\u001b[0m\u001b[1;33m(\u001b[0m\u001b[0mfile_resive_path\u001b[0m\u001b[1;33m,\u001b[0m \u001b[0mfile_drop_path\u001b[0m\u001b[1;33m)\u001b[0m\u001b[1;33m\u001b[0m\u001b[1;33m\u001b[0m\u001b[0m\n\u001b[0m\u001b[0;32m      5\u001b[0m     \u001b[0mdata\u001b[0m \u001b[1;33m=\u001b[0m \u001b[1;34m\"done copy file\"\u001b[0m\u001b[1;33m\u001b[0m\u001b[1;33m\u001b[0m\u001b[0m\n\u001b[0;32m      6\u001b[0m     \u001b[1;32mreturn\u001b[0m \u001b[0mdata\u001b[0m\u001b[1;33m\u001b[0m\u001b[1;33m\u001b[0m\u001b[0m\n",
      "\u001b[1;32mc:\\python\\python3.8.5\\lib\\shutil.py\u001b[0m in \u001b[0;36mcopyfile\u001b[1;34m(src, dst, follow_symlinks)\u001b[0m\n\u001b[0;32m    259\u001b[0m         \u001b[0mos\u001b[0m\u001b[1;33m.\u001b[0m\u001b[0msymlink\u001b[0m\u001b[1;33m(\u001b[0m\u001b[0mos\u001b[0m\u001b[1;33m.\u001b[0m\u001b[0mreadlink\u001b[0m\u001b[1;33m(\u001b[0m\u001b[0msrc\u001b[0m\u001b[1;33m)\u001b[0m\u001b[1;33m,\u001b[0m \u001b[0mdst\u001b[0m\u001b[1;33m)\u001b[0m\u001b[1;33m\u001b[0m\u001b[1;33m\u001b[0m\u001b[0m\n\u001b[0;32m    260\u001b[0m     \u001b[1;32melse\u001b[0m\u001b[1;33m:\u001b[0m\u001b[1;33m\u001b[0m\u001b[1;33m\u001b[0m\u001b[0m\n\u001b[1;32m--> 261\u001b[1;33m         \u001b[1;32mwith\u001b[0m \u001b[0mopen\u001b[0m\u001b[1;33m(\u001b[0m\u001b[0msrc\u001b[0m\u001b[1;33m,\u001b[0m \u001b[1;34m'rb'\u001b[0m\u001b[1;33m)\u001b[0m \u001b[1;32mas\u001b[0m \u001b[0mfsrc\u001b[0m\u001b[1;33m,\u001b[0m \u001b[0mopen\u001b[0m\u001b[1;33m(\u001b[0m\u001b[0mdst\u001b[0m\u001b[1;33m,\u001b[0m \u001b[1;34m'wb'\u001b[0m\u001b[1;33m)\u001b[0m \u001b[1;32mas\u001b[0m \u001b[0mfdst\u001b[0m\u001b[1;33m:\u001b[0m\u001b[1;33m\u001b[0m\u001b[1;33m\u001b[0m\u001b[0m\n\u001b[0m\u001b[0;32m    262\u001b[0m             \u001b[1;31m# macOS\u001b[0m\u001b[1;33m\u001b[0m\u001b[1;33m\u001b[0m\u001b[1;33m\u001b[0m\u001b[0m\n\u001b[0;32m    263\u001b[0m             \u001b[1;32mif\u001b[0m \u001b[0m_HAS_FCOPYFILE\u001b[0m\u001b[1;33m:\u001b[0m\u001b[1;33m\u001b[0m\u001b[1;33m\u001b[0m\u001b[0m\n",
      "\u001b[1;31mFileNotFoundError\u001b[0m: [Errno 2] No such file or directory: 'C:/Users/pushp/Desktop/python_copy_data/cc.txt'"
     ]
    }
   ],
   "source": [
    "work_opetions = (input(\"what is work in program like copy and move file  :-  \", ))\n",
    "print(type(work_opetions))\n",
    "compresin1 = \"copy\"\n",
    "compresin2 = \"move\"\n",
    "compresin3 = [\"copy\",\"move\"]\n",
    "if work_opetions in compresin3:\n",
    "    if work_opetions == compresin1:\n",
    "        print(\"you are chusee copy opetion\")\n",
    "        scr = (input(\"fill your file dir path :- \", ))\n",
    "        dcr = (input(\"fill your file drop path  :- \", ))    \n",
    "        copyfuction(scr, dcr)\n",
    "        print(\"done copy\")\n",
    "    elif work_opetions == compresin2:\n",
    "        scr = (input(\"fill your file dir path :- \", ))\n",
    "        dcr = (input(\"fill your file drop path  :- \", ))\n",
    "        movefunction(scr,dcr)\n",
    "        print(\"Done move file\")\n",
    "        \n",
    "else:\n",
    "    print(\"somthing wrong 1\")"
   ]
  },
  {
   "cell_type": "code",
   "execution_count": null,
   "metadata": {},
   "outputs": [],
   "source": [
    "C:/Users/pushp/Desktop/python_copy_data/cc.txt"
   ]
  },
  {
   "cell_type": "code",
   "execution_count": null,
   "metadata": {},
   "outputs": [],
   "source": [
    "C:/Users/pushp/Desktop/"
   ]
  },
  {
   "cell_type": "code",
   "execution_count": null,
   "metadata": {},
   "outputs": [],
   "source": [
    "     try:\n",
    "         if compresin1 == work_opetions:\n",
    "             print(\"copy\")\n",
    "#     #     else:\n",
    "#     #         print(\"somting wrong 1\")\n",
    "     except:\n",
    "         if compresin2 == work_opetions:\n",
    "            print(\"move ram\")\n",
    "         else:\n",
    "             print(\"somting wrong 2\")"
   ]
  },
  {
   "cell_type": "code",
   "execution_count": null,
   "metadata": {},
   "outputs": [],
   "source": [
    "http://localhost:8888/notebooks/Untitled.ipynb#copy,-move-multiple-file-any-file-like-(.pdf,-.txt,-.jpg,-png,-.mp4,-.mp3,-more-then-files)"
   ]
  },
  {
   "cell_type": "code",
   "execution_count": null,
   "metadata": {},
   "outputs": [],
   "source": []
  },
  {
   "cell_type": "code",
   "execution_count": null,
   "metadata": {},
   "outputs": [],
   "source": []
  },
  {
   "cell_type": "code",
   "execution_count": null,
   "metadata": {},
   "outputs": [],
   "source": []
  },
  {
   "cell_type": "code",
   "execution_count": null,
   "metadata": {},
   "outputs": [],
   "source": []
  },
  {
   "cell_type": "code",
   "execution_count": null,
   "metadata": {},
   "outputs": [],
   "source": []
  },
  {
   "cell_type": "code",
   "execution_count": null,
   "metadata": {},
   "outputs": [],
   "source": []
  },
  {
   "cell_type": "code",
   "execution_count": null,
   "metadata": {},
   "outputs": [],
   "source": []
  },
  {
   "cell_type": "code",
   "execution_count": null,
   "metadata": {},
   "outputs": [],
   "source": []
  },
  {
   "cell_type": "code",
   "execution_count": null,
   "metadata": {},
   "outputs": [],
   "source": []
  },
  {
   "cell_type": "code",
   "execution_count": null,
   "metadata": {},
   "outputs": [],
   "source": []
  },
  {
   "cell_type": "code",
   "execution_count": null,
   "metadata": {},
   "outputs": [],
   "source": []
  },
  {
   "cell_type": "raw",
   "metadata": {},
   "source": [
    "# copy, move multiple file \n",
    "# file like (.pdf, .txt, .jpg, png, .mp4, .mp3, more then files)"
   ]
  },
  {
   "cell_type": "code",
   "execution_count": null,
   "metadata": {},
   "outputs": [],
   "source": []
  },
  {
   "cell_type": "code",
   "execution_count": null,
   "metadata": {},
   "outputs": [],
   "source": []
  },
  {
   "cell_type": "code",
   "execution_count": null,
   "metadata": {},
   "outputs": [],
   "source": []
  },
  {
   "cell_type": "code",
   "execution_count": null,
   "metadata": {},
   "outputs": [],
   "source": [
    "# c:/users/pushp/desktop/python_copy_data/\n",
    "which_file = (input( \"which file (like .pdf, .txt, .png, .mp4, .... )\", ))\n",
    "path_dir = (input(\"insert path  : -   \", ))\n",
    "result = os.chdir(path_dir)\n",
    "list_file = [ ]\n",
    "print(which_file)\n",
    "for file in glob.glob(\"*.{}\".format(which_file)):\n",
    "        list_file.append(file)\n",
    "\n",
    "print(list_file)\n",
    "# det = (input(\" drop path\", ))\n",
    "# for file1 in list_file:\n",
    "#     shutil.copy(file1, det)\n",
    "# print(\"done\")"
   ]
  },
  {
   "cell_type": "code",
   "execution_count": null,
   "metadata": {},
   "outputs": [],
   "source": []
  },
  {
   "cell_type": "code",
   "execution_count": null,
   "metadata": {},
   "outputs": [],
   "source": []
  },
  {
   "cell_type": "code",
   "execution_count": null,
   "metadata": {},
   "outputs": [],
   "source": [
    "# c:/users/pushp/desktop/python_copy_data/\n",
    "# c:/users/pushp/desktop/New Folder/\n",
    "# which_file = (input( \"which file (like .pdf, .txt, .png, .mp4, .... )\", ))\n",
    "path_dir = (input(\"insert path  : -   \", ))\n",
    "result = os.chdir(path_dir)\n",
    "list_file = [ ]\n",
    "file_type = (\"*.pdf\", \"*.txt\", \"*.xlsx\", \"*.jpg\", \"*.pub\", \"*.accdb\", \"*.bmp\", \"*.docx\", \"*.pptx\")\n",
    "for file in file_type:\n",
    "    print(file)\n",
    "        #list_file.append(glob.glob(file))\n",
    "\n",
    "print(type(list_file))\n",
    "# det = (input(\" drop path\", ))\n",
    "# for file1 in list_file:\n",
    "#     shutil.copy(file1, det)\n",
    "# print(\"done\")"
   ]
  },
  {
   "cell_type": "code",
   "execution_count": null,
   "metadata": {},
   "outputs": [],
   "source": []
  },
  {
   "cell_type": "code",
   "execution_count": 8,
   "metadata": {},
   "outputs": [
    {
     "data": {
      "text/plain": [
       "['Agreement.pdf',\n",
       " 'ashok kumar sign',\n",
       " 'ashok sir',\n",
       " 'backup',\n",
       " 'backup_24Jun2022',\n",
       " 'database',\n",
       " 'demoPayu.py',\n",
       " 'desktop.ini',\n",
       " 'Django_Projects',\n",
       " 'DSC_MGMT_UTILITY.jar',\n",
       " 'FINRA Non Employee Questionnaire_NAM_FINAL.pdf',\n",
       " 'FINRA Non Employee Questionnaire_NAM_FINAL1.pdf',\n",
       " 'FINRA Non Employee Questionnaire_NAM_FINAL_n1.pdf',\n",
       " 'FINRA Non Employee Questionnaire_NAM_FINAL_new.docx',\n",
       " 'first repo git',\n",
       " 'graph_database.txt',\n",
       " 'hdfc.txt',\n",
       " 'IMG-20190716-WA0012.jpg',\n",
       " 'interview_reply.txt',\n",
       " 'lal',\n",
       " 'liitle_intro.txt',\n",
       " 'Microsoft Teams.lnk',\n",
       " 'My calculator.lnk',\n",
       " 'nejo4_home',\n",
       " 'New Text Document.txt',\n",
       " 'new.html',\n",
       " 'Non Employee ABC Disclosure Questionnaire_2017.pdf',\n",
       " 'PFNomination-fill.docx',\n",
       " 'PFNomination-filled.docx',\n",
       " 'Postman.lnk',\n",
       " 'project',\n",
       " 'proj_wipro.txt',\n",
       " 'python_copy_data',\n",
       " 'source_data',\n",
       " 'test',\n",
       " 'Test Report',\n",
       " 'Visual Studio Code.lnk',\n",
       " 'vvv.txt',\n",
       " 'vvv1.txt',\n",
       " 'WindowsActive1.7.5.0_190624',\n",
       " 'wipro.txt',\n",
       " 'Zoom.lnk']"
      ]
     },
     "execution_count": 8,
     "metadata": {},
     "output_type": "execute_result"
    }
   ],
   "source": [
    "os.listdir('C:/Users/pushp/desktop')"
   ]
  },
  {
   "cell_type": "code",
   "execution_count": 6,
   "metadata": {},
   "outputs": [],
   "source": [
    "#  1st step\n",
    "\n",
    "\n",
    "ss = \"C:/Users/pushp/desktop/alls_data/Nikhil/Yogesh\"\n",
    "w = os.walk('C:/Users/pushp/desktop/alls_data/Nikhil/')\n",
    "list_file = []\n",
    "for i in w:\n",
    "    p = i[0]\n",
    "    print(p)\n",
    "#cc = p\n",
    "#print(cc)\n",
    "   # print(type(p))\n",
    "   # f = i[1]\n",
    "#print(f)\n",
    "    #filis = i[2]\n",
    "#print(filis)\n",
    "    \n",
    "    #for ii in p:\n",
    "        #list_file.append(ii)\n",
    "        #print(list_file)\n",
    "        #print(ii)"
   ]
  },
  {
   "cell_type": "code",
   "execution_count": null,
   "metadata": {},
   "outputs": [],
   "source": [
    "import shutil , os\n",
    "\n",
    "ss_dir = 'C:/Users/pushp/desktop/alls_data/Nikhil/'\n",
    "dss_dir = \"C:/Users/pushp/desktop/backup\"\n",
    "shutil.copytree(ss_dir, dss_dir)\n",
    "#shutil.rmtree(dss_dir)"
   ]
  },
  {
   "cell_type": "code",
   "execution_count": 4,
   "metadata": {},
   "outputs": [],
   "source": [
    "# 2nd step \n",
    "\n",
    "\n",
    "ss = \"C:/Users/pushp/desktop/alls_data/Nikhil/\"\n",
    "dss = \"C:/Users/pushp/desktop/backup\"\n",
    "w = os.walk('C:/Users/pushp/desktop/alls_data/Nikhil/')\n",
    "list_file = []\n",
    "for i in w:    \n",
    "    p = i[0]\n",
    "   # print(p)\n",
    "\n",
    "    f = i[1]\n",
    "   # print(f)\n",
    "    for iii in i:\n",
    "       # print(iii)\n",
    "        splitpath = p.split(\"desktop\")\n",
    "       # print(splitpath)\n",
    "       # backuppath = \"C:/Users/pushp/backup/\"\n",
    "       # finalpath = dss + \"/desktop\" + splitpath[1]\n",
    "        finalpath =  splitpath[1]\n",
    "        print(\"final\", finalpath)\n",
    "        path = os.path.join(dss,\"/ram/\")\n",
    "        print(path)\n",
    "#     os.makedirs(path)\n",
    "#     filis = i[2]\n",
    "#     print(filis)"
   ]
  },
  {
   "cell_type": "code",
   "execution_count": null,
   "metadata": {},
   "outputs": [],
   "source": []
  },
  {
   "cell_type": "code",
   "execution_count": null,
   "metadata": {},
   "outputs": [],
   "source": []
  },
  {
   "cell_type": "code",
   "execution_count": null,
   "metadata": {},
   "outputs": [],
   "source": [
    "splitpath = ss.split(\"desktop/\")\n",
    "backuppath = \"C:/Users/pushp/backup\"\n",
    "finalpath = backuppath + \"/desktop/\" + splitpath[1]\n",
    "print(\"final\", finalpath)"
   ]
  },
  {
   "cell_type": "code",
   "execution_count": null,
   "metadata": {},
   "outputs": [],
   "source": [
    "v = [\"fhkfmf\",\"hjfdfnv\"]\n",
    "f = str(v)\n",
    "print(type(f))\n",
    "\n",
    "f"
   ]
  },
  {
   "cell_type": "code",
   "execution_count": null,
   "metadata": {},
   "outputs": [],
   "source": [
    "str1 = \"\"\n",
    "for i1 in v :\n",
    "    str1 += i1\n",
    "print(type(str1))\n",
    "str1"
   ]
  },
  {
   "cell_type": "code",
   "execution_count": null,
   "metadata": {},
   "outputs": [],
   "source": []
  },
  {
   "cell_type": "code",
   "execution_count": null,
   "metadata": {},
   "outputs": [],
   "source": []
  },
  {
   "cell_type": "code",
   "execution_count": null,
   "metadata": {},
   "outputs": [],
   "source": [
    "# for ele in range (1,a+1):\n",
    "#     print(ele)"
   ]
  },
  {
   "cell_type": "code",
   "execution_count": null,
   "metadata": {},
   "outputs": [],
   "source": [
    "def fizzbuzz(n):\n",
    "    for i in range(1,n + 1):\n",
    "        if i in (3,7,11):\n",
    "            print(\"Fizz\")\n",
    "            \n",
    "        elif i in (5,8,13):\n",
    "            print(\"Buzz\")\n",
    "        \n",
    "        else:\n",
    "            print(i)\n",
    "    \n",
    "n = 15    \n",
    "fizzbuzz(n)"
   ]
  },
  {
   "cell_type": "code",
   "execution_count": null,
   "metadata": {},
   "outputs": [],
   "source": [
    "print(1/0)"
   ]
  },
  {
   "cell_type": "code",
   "execution_count": null,
   "metadata": {},
   "outputs": [],
   "source": [
    "try :\n",
    "    print(1 / 0)\n",
    "except (NameError, ZeroDivisionError ) :\n",
    "    print(12)\n",
    "except :\n",
    "    print(23)"
   ]
  },
  {
   "cell_type": "code",
   "execution_count": null,
   "metadata": {},
   "outputs": [],
   "source": [
    "a"
   ]
  },
  {
   "cell_type": "code",
   "execution_count": null,
   "metadata": {},
   "outputs": [],
   "source": []
  },
  {
   "cell_type": "code",
   "execution_count": null,
   "metadata": {},
   "outputs": [],
   "source": []
  },
  {
   "cell_type": "code",
   "execution_count": null,
   "metadata": {},
   "outputs": [],
   "source": [
    "# copy directory , sub directory and files \n",
    "# source_path = \"C:/Users/pushp/desktop/alls_data/\"\n",
    "# dss_path = \"C:/Users/pushp/desktop/New folder/dk\"\n",
    "\n",
    "source_path = \"C:/Users/pushp/Desktop/source_data\"\n",
    "dss_path = \"C:/Users/pushp/Desktop/backup_24Jun2022\"\n",
    "# source_path = input(\"Enter your copy directory path : -  \", )\n",
    "# dss_path = input(\"Enter your dss directory path : -  \", )\n",
    "try:\n",
    "    data = shutil.copytree(source_path, dss_path)\n",
    "    print(data, \"copy is done\")\n",
    "except (NameError, FileExistsError) :\n",
    "    print(\"what are you cline directory dss\")\n",
    "   # shutil.rmtree(dss_path)\n",
    "    "
   ]
  },
  {
   "cell_type": "code",
   "execution_count": 2,
   "metadata": {},
   "outputs": [],
   "source": [
    "import glob,os"
   ]
  },
  {
   "cell_type": "markdown",
   "metadata": {},
   "source": [
    "# STEP-1"
   ]
  },
  {
   "cell_type": "code",
   "execution_count": 3,
   "metadata": {},
   "outputs": [],
   "source": [
    "source_path=os.getcwd()\n",
    "listofpy=glob.glob(source_path+\"/*.py\")"
   ]
  },
  {
   "cell_type": "code",
   "execution_count": 7,
   "metadata": {},
   "outputs": [
    {
     "data": {
      "text/plain": [
       "['C:\\\\Users\\\\pushp\\\\PycharmProjects\\\\copy_move_python_program\\\\main.py',\n",
       " 'C:\\\\Users\\\\pushp\\\\PycharmProjects\\\\copy_move_python_program\\\\main1.py',\n",
       " 'C:\\\\Users\\\\pushp\\\\PycharmProjects\\\\copy_move_python_program\\\\main2.py',\n",
       " 'C:\\\\Users\\\\pushp\\\\PycharmProjects\\\\copy_move_python_program\\\\M_Copy.py']"
      ]
     },
     "execution_count": 7,
     "metadata": {},
     "output_type": "execute_result"
    }
   ],
   "source": [
    "listofpy"
   ]
  },
  {
   "cell_type": "code",
   "execution_count": 10,
   "metadata": {},
   "outputs": [
    {
     "name": "stdout",
     "output_type": "stream",
     "text": [
      "['Desktop\\\\source_data', 'Desktop\\\\source_data\\\\dk', 'Desktop\\\\source_data\\\\dk\\\\account', 'Desktop\\\\source_data\\\\dk\\\\GeeksforGeeks', 'Desktop\\\\source_data\\\\dk\\\\Nikhil', 'Desktop\\\\source_data\\\\dk\\\\Nikhil\\\\Yogesh', 'Desktop\\\\source_data\\\\dk\\\\Nikhil\\\\Yogesh\\\\vikash']\n"
     ]
    }
   ],
   "source": [
    "original_source_listofdir=[]\n",
    "for p in os.walk(\"C:\\\\Users\\\\pushp\\\\Desktop\\\\source_data\"):\n",
    "    original_source_listofdir.append(p[0])\n",
    "    \n",
    "source_listofdir=[el.replace(\"C:\\\\Users\\\\pushp\\\\\",\"\") for el in original_source_listofdir]\n",
    "print(source_listofdir)"
   ]
  },
  {
   "cell_type": "markdown",
   "metadata": {},
   "source": [
    "# STEP-2 \n",
    "Create all destination dirs"
   ]
  },
  {
   "cell_type": "code",
   "execution_count": 47,
   "metadata": {},
   "outputs": [],
   "source": [
    "destination_listofdir=[\"C:\\\\Users\\\\pushp\\\\PycharmProjects\\\\copy_move_python_program\\\\backup\\\\\"+el for el in source_listofdir]\n",
    "for d_path in destination_listofdir:\n",
    "    os.makedirs(d_path,exist_ok=True)"
   ]
  },
  {
   "cell_type": "markdown",
   "metadata": {},
   "source": [
    "# STEP-3 \n",
    "list .pdf fils"
   ]
  },
  {
   "cell_type": "code",
   "execution_count": 51,
   "metadata": {},
   "outputs": [
    {
     "name": "stdout",
     "output_type": "stream",
     "text": [
      "C:\\Users\\pushp\\Desktop\n"
     ]
    }
   ],
   "source": [
    "src_path=original_source_listofdir[0]\n",
    "print(src_path)\n",
    "def myfile_list(src_path):\n",
    "    filelist=glob.glob(src_path+\"\\\\*.docx\")\n",
    "    return filelist"
   ]
  },
  {
   "cell_type": "code",
   "execution_count": 41,
   "metadata": {},
   "outputs": [
    {
     "data": {
      "text/plain": [
       "'Desktop'"
      ]
     },
     "execution_count": 41,
     "metadata": {},
     "output_type": "execute_result"
    }
   ],
   "source": [
    "src_path"
   ]
  },
  {
   "cell_type": "code",
   "execution_count": 45,
   "metadata": {},
   "outputs": [
    {
     "data": {
      "text/plain": [
       "'C:\\\\Users\\\\pushp\\\\PycharmProjects\\\\copy_move_python_program'"
      ]
     },
     "execution_count": 45,
     "metadata": {},
     "output_type": "execute_result"
    }
   ],
   "source": [
    "pwd"
   ]
  },
  {
   "cell_type": "code",
   "execution_count": null,
   "metadata": {},
   "outputs": [],
   "source": []
  }
 ],
 "metadata": {
  "kernelspec": {
   "display_name": "Python 3",
   "language": "python",
   "name": "python3"
  },
  "language_info": {
   "codemirror_mode": {
    "name": "ipython",
    "version": 3
   },
   "file_extension": ".py",
   "mimetype": "text/x-python",
   "name": "python",
   "nbconvert_exporter": "python",
   "pygments_lexer": "ipython3",
   "version": "3.8.5"
  }
 },
 "nbformat": 4,
 "nbformat_minor": 4
}
