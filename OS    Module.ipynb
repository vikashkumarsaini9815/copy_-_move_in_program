{
 "cells": [
  {
   "cell_type": "markdown",
   "metadata": {},
   "source": [
    "#  os module "
   ]
  },
  {
   "cell_type": "raw",
   "metadata": {},
   "source": [
    "The OS module in Python provides functions for interacting with the operating system. OS comes under Python’s standard utility modules. This module provides a portable way of using operating system-dependent functionality. The *os* and *os.path* modules include many functions to interact with the file system"
   ]
  },
  {
   "cell_type": "code",
   "execution_count": null,
   "metadata": {},
   "outputs": [],
   "source": []
  },
  {
   "cell_type": "raw",
   "metadata": {},
   "source": [
    "we works on os module \n",
    "so let's start"
   ]
  },
  {
   "cell_type": "code",
   "execution_count": 2,
   "metadata": {},
   "outputs": [],
   "source": [
    "import os"
   ]
  },
  {
   "cell_type": "code",
   "execution_count": 3,
   "metadata": {},
   "outputs": [],
   "source": [
    "# how get your current working directory\n",
    "# os module provaid a methode getcwd()\n",
    "# C:/Users/pushp/PycharmProjects/copy_move_python_program"
   ]
  },
  {
   "cell_type": "code",
   "execution_count": 4,
   "metadata": {},
   "outputs": [
    {
     "name": "stdout",
     "output_type": "stream",
     "text": [
      "C:\\Users\\pushp\\PycharmProjects\\copy_move_python_program\n"
     ]
    }
   ],
   "source": [
    "print(os.getcwd())"
   ]
  },
  {
   "cell_type": "code",
   "execution_count": 7,
   "metadata": {},
   "outputs": [
    {
     "name": "stdout",
     "output_type": "stream",
     "text": [
      "current working directory :-   C:\\Users\\pushp\\desktop\\alls_data\n"
     ]
    }
   ],
   "source": [
    "find_path = os.getcwd()\n",
    "print(\"current working directory :-  \", find_path)"
   ]
  },
  {
   "cell_type": "code",
   "execution_count": null,
   "metadata": {},
   "outputs": [],
   "source": []
  },
  {
   "cell_type": "code",
   "execution_count": null,
   "metadata": {},
   "outputs": [],
   "source": []
  },
  {
   "cell_type": "code",
   "execution_count": null,
   "metadata": {},
   "outputs": [],
   "source": [
    "#  Changing the Current working directory\n",
    "#  os module provaid a methode chdir()"
   ]
  },
  {
   "cell_type": "code",
   "execution_count": 6,
   "metadata": {},
   "outputs": [
    {
     "name": "stdout",
     "output_type": "stream",
     "text": [
      "change working directory None\n"
     ]
    }
   ],
   "source": [
    "change_path = os.chdir('C:/Users/pushp/desktop/alls_data/') \n",
    "print(\"change working directory\", change_path)"
   ]
  },
  {
   "cell_type": "code",
   "execution_count": null,
   "metadata": {},
   "outputs": [],
   "source": [
    "os.chdir('C:/Users/pushp/PycharmProjects/copy_move_python_program')"
   ]
  },
  {
   "cell_type": "code",
   "execution_count": null,
   "metadata": {},
   "outputs": [],
   "source": []
  },
  {
   "cell_type": "code",
   "execution_count": null,
   "metadata": {},
   "outputs": [],
   "source": []
  },
  {
   "cell_type": "code",
   "execution_count": null,
   "metadata": {},
   "outputs": [],
   "source": [
    "#    Creating a Directory"
   ]
  },
  {
   "cell_type": "raw",
   "metadata": {},
   "source": [
    "There are different methods available in the OS module for creating a directory. These are –\n",
    "\n",
    "os.mkdir()\n",
    "os.makedirs()"
   ]
  },
  {
   "cell_type": "code",
   "execution_count": null,
   "metadata": {},
   "outputs": [],
   "source": [
    "# i am useing mkdir()"
   ]
  },
  {
   "cell_type": "code",
   "execution_count": null,
   "metadata": {},
   "outputs": [],
   "source": [
    "directory = \"GeeksforGeeks\"\n",
    " \n",
    "# Parent Directory path\n",
    "parent_dir = \"C:/Users/pushp/desktop/alls_data/\"\n",
    " \n",
    "# Path\n",
    "path = os.path.join(parent_dir, directory)\n",
    "\n",
    "os.mkdir(path)\n",
    "print(\"Directory '% s' created\" % directory)\n"
   ]
  },
  {
   "cell_type": "code",
   "execution_count": null,
   "metadata": {},
   "outputs": [],
   "source": [
    "#  Using os.makedirs()"
   ]
  },
  {
   "cell_type": "code",
   "execution_count": 3,
   "metadata": {},
   "outputs": [
    {
     "name": "stdout",
     "output_type": "stream",
     "text": [
      "C:/Users/pushp/desktop/alls_data/Nikhil/Yogesh/vicky/\n"
     ]
    }
   ],
   "source": [
    "directory = \"Nikhil/Yogesh/vicky/\"\n",
    "     \n",
    "# Parent Directories\n",
    "parent_dir = \"C:/Users/pushp/desktop/alls_data/\"\n",
    "     \n",
    "# Path\n",
    "path = os.path.join(parent_dir, directory)\n",
    "print(path)    \n",
    "# Create the directory\n",
    "# 'Nikhil'\n",
    "#os.makedirs(path)\n",
    "#print(\"Directory '% s' created\" % directory)"
   ]
  },
  {
   "cell_type": "code",
   "execution_count": null,
   "metadata": {},
   "outputs": [],
   "source": []
  },
  {
   "cell_type": "code",
   "execution_count": null,
   "metadata": {},
   "outputs": [],
   "source": [
    "#  Listing out Files and Directories with Python\n",
    "#  os.listdir() method in Python is used to get the list of all files and directories in the\n",
    "#  specified directory."
   ]
  },
  {
   "cell_type": "code",
   "execution_count": 6,
   "metadata": {},
   "outputs": [
    {
     "name": "stdout",
     "output_type": "stream",
     "text": [
      "Files and directories in ' C:/Users/pushp/Desktop/source_data ' :\n",
      "['dk', 'New Bitmap image.bmp', 'New Microsoft Access Database.accdb', 'New Microsoft Excel Worksheet.xlsx', 'New Microsoft PowerPoint Presentation.pptx', 'New Microsoft Publisher Document.pub', 'New Microsoft Word Document.docx']\n"
     ]
    }
   ],
   "source": [
    "# Get the list of all files and directories\n",
    "# in the root directory\n",
    "path = \"C:/Users/pushp/Desktop/source_data\"\n",
    "dir_list = os.listdir(path)\n",
    " \n",
    "print(\"Files and directories in '\", path, \"' :\")\n",
    " \n",
    "# print the list\n",
    "print(dir_list)"
   ]
  },
  {
   "cell_type": "code",
   "execution_count": null,
   "metadata": {},
   "outputs": [],
   "source": []
  },
  {
   "cell_type": "code",
   "execution_count": null,
   "metadata": {},
   "outputs": [],
   "source": []
  },
  {
   "cell_type": "code",
   "execution_count": null,
   "metadata": {},
   "outputs": [],
   "source": [
    "#  Deleting Directory or Files using Python"
   ]
  },
  {
   "cell_type": "raw",
   "metadata": {},
   "source": [
    "OS module proves different methods for removing directories and files in Python. These are – \n",
    "\n",
    "Using os.remove()\n",
    "Using os.rmdir()"
   ]
  },
  {
   "cell_type": "code",
   "execution_count": null,
   "metadata": {},
   "outputs": [],
   "source": [
    "# os.remove() method in Python is used to remove or delete a file path.\n",
    "# This method can not remove or delete a directory. \n",
    "# If the specified path is a directory then OSError will be raised by the method."
   ]
  },
  {
   "cell_type": "code",
   "execution_count": null,
   "metadata": {},
   "outputs": [],
   "source": [
    "# File name\n",
    "file = 'ggg.txt'\n",
    "     \n",
    "# File location\n",
    "location = \"C:/Users/pushp/Desktop/alls_data/Nikhil/Yogesh/vicky\"\n",
    "     \n",
    "# Path\n",
    "path = os.path.join(location, file)\n",
    "     \n",
    "# Remove the file\n",
    "# 'file.txt'\n",
    "os.remove(path)"
   ]
  },
  {
   "cell_type": "code",
   "execution_count": null,
   "metadata": {},
   "outputs": [],
   "source": []
  },
  {
   "cell_type": "code",
   "execution_count": null,
   "metadata": {},
   "outputs": [],
   "source": [
    "# os.rmdir() method in Python is used to remove or delete an empty directory.\n",
    "# OSError will be raised if the specified path is not an empty directory."
   ]
  },
  {
   "cell_type": "code",
   "execution_count": 3,
   "metadata": {},
   "outputs": [],
   "source": [
    "# Directory name\n",
    "directory = \"qe\"\n",
    "     \n",
    "# Parent Directory\n",
    "parent = \"C:/Users/pushp/Desktop/GeeksforGeeks/\"\n",
    "     \n",
    "# Path\n",
    "path = os.path.join(parent, directory)\n",
    "     \n",
    "# Remove the Directory\n",
    "# \"Geeks\"\n",
    "os.rmdir(path)"
   ]
  },
  {
   "cell_type": "code",
   "execution_count": 35,
   "metadata": {},
   "outputs": [
    {
     "name": "stdout",
     "output_type": "stream",
     "text": [
      "('C:/Users/pushp/desktop/alls_data/Nikhil/', ['Yogesh'], ['dfghh.txt'])\n",
      "('C:/Users/pushp/desktop/alls_data/Nikhil/Yogesh', ['vikash'], [])\n",
      "('C:/Users/pushp/desktop/alls_data/Nikhil/Yogesh\\\\vikash', [], ['jhjk.txt', 'ramu.txt'])\n"
     ]
    }
   ],
   "source": [
    "w = os.walk('C:/Users/pushp/desktop/alls_data/Nikhil/')\n",
    "for i in w:\n",
    "    print(i)"
   ]
  },
  {
   "cell_type": "code",
   "execution_count": 36,
   "metadata": {},
   "outputs": [
    {
     "name": "stdout",
     "output_type": "stream",
     "text": [
      "dfgjgf\n",
      "3456\n",
      "['fdbgf', 543]\n",
      "fdsf\n",
      "876543\n",
      "gfdv\n",
      "234567\n",
      "567.5678\n",
      "[4787, 'esdfgh']\n"
     ]
    }
   ],
   "source": [
    "tuple1 = (\"dfgjgf\",3456,['fdbgf',543]),(\"fdsf\",876543,\"gfdv\"),(234567,567.5678,[4787,\"esdfgh\"])\n",
    "s = []\n",
    "for i1 in tuple1:\n",
    "    #s.append(i1)\n",
    "    for i2 in i1:\n",
    "        print(i2)\n",
    "#print(s)\n",
    "    "
   ]
  },
  {
   "cell_type": "code",
   "execution_count": 37,
   "metadata": {},
   "outputs": [
    {
     "ename": "NameError",
     "evalue": "name 'split' is not defined",
     "output_type": "error",
     "traceback": [
      "\u001b[1;31m---------------------------------------------------------------------------\u001b[0m",
      "\u001b[1;31mNameError\u001b[0m                                 Traceback (most recent call last)",
      "\u001b[1;32m<ipython-input-37-7d2c54915349>\u001b[0m in \u001b[0;36m<module>\u001b[1;34m\u001b[0m\n\u001b[1;32m----> 1\u001b[1;33m \u001b[0msplit\u001b[0m\u001b[1;33m\u001b[0m\u001b[1;33m\u001b[0m\u001b[0m\n\u001b[0m",
      "\u001b[1;31mNameError\u001b[0m: name 'split' is not defined"
     ]
    }
   ],
   "source": [
    "split"
   ]
  },
  {
   "cell_type": "code",
   "execution_count": 42,
   "metadata": {},
   "outputs": [
    {
     "name": "stdout",
     "output_type": "stream",
     "text": [
      "['C:/Users/pushp/', 'alls_data/Nikhil/']\n"
     ]
    }
   ],
   "source": [
    "ss = \"C:/Users/pushp/desktop/alls_data/Nikhil/\"\n",
    "splitpath = ss.split(\"desktop/\")\n",
    "print(splitpath)"
   ]
  },
  {
   "cell_type": "code",
   "execution_count": 41,
   "metadata": {},
   "outputs": [
    {
     "data": {
      "text/plain": [
       "'C:/Users/pushp/backup/desktop/alls_data/Nikhil/'"
      ]
     },
     "execution_count": 41,
     "metadata": {},
     "output_type": "execute_result"
    }
   ],
   "source": [
    "backuppath = \"C:/Users/pushp/backup\"\n",
    "finalpath = backuppath + \"/desktop/\" + splitpath[1]\n",
    "finalpath"
   ]
  },
  {
   "cell_type": "code",
   "execution_count": null,
   "metadata": {},
   "outputs": [],
   "source": []
  },
  {
   "cell_type": "code",
   "execution_count": 1,
   "metadata": {},
   "outputs": [
    {
     "name": "stdout",
     "output_type": "stream",
     "text": [
      "my_path\n"
     ]
    }
   ],
   "source": [
    "# make in str to path \n",
    "\n",
    "\n",
    "from pathlib import Path\n",
    "str_path = \"my_path\"\n",
    "print( Path(str_path))\n"
   ]
  },
  {
   "cell_type": "code",
   "execution_count": null,
   "metadata": {},
   "outputs": [],
   "source": []
  }
 ],
 "metadata": {
  "kernelspec": {
   "display_name": "Python 3",
   "language": "python",
   "name": "python3"
  },
  "language_info": {
   "codemirror_mode": {
    "name": "ipython",
    "version": 3
   },
   "file_extension": ".py",
   "mimetype": "text/x-python",
   "name": "python",
   "nbconvert_exporter": "python",
   "pygments_lexer": "ipython3",
   "version": "3.8.5"
  }
 },
 "nbformat": 4,
 "nbformat_minor": 4
}
