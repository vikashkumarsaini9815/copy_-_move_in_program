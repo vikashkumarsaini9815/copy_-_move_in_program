{
 "cells": [
  {
   "cell_type": "markdown",
   "metadata": {},
   "source": [
    "# How to copy , move and create dir in python program"
   ]
  },
  {
   "cell_type": "code",
   "execution_count": 2,
   "metadata": {},
   "outputs": [],
   "source": [
    "import os, shutil"
   ]
  },
  {
   "cell_type": "code",
   "execution_count": null,
   "metadata": {},
   "outputs": [],
   "source": []
  },
  {
   "cell_type": "raw",
   "metadata": {},
   "source": [
    "#  copy, move  only one file any  \n",
    "#  file like (.pdf, .txt, .jpg, png, .mp4, .mp3, more then files)\n"
   ]
  },
  {
   "cell_type": "code",
   "execution_count": null,
   "metadata": {},
   "outputs": [],
   "source": [
    "def copyfuction(scr, dcr):\n",
    "    file_resive_path = scr\n",
    "    file_drop_path = dcr\n",
    "    shutil.copyfile(file_resive_path, file_drop_path)\n",
    "    data = \"done copy file\"\n",
    "    return data\n",
    "# a = r\"C:\\Users\\pushp\\Desktop\\python_copy_data\\cc.txt\"\n",
    "# b = r\"C:\\Users\\pushp\\Desktop\\vvv21.txt\"\n",
    "#copyfuction(scr = \"C:/Users/pushp/Desktop/python_copy_data/cc.txt\", dcr = \"C:/Users/pushp/Desktop/vvv25.txt\")"
   ]
  },
  {
   "cell_type": "code",
   "execution_count": null,
   "metadata": {},
   "outputs": [],
   "source": [
    "def movefunction(scr,dcr):\n",
    "    file_resive_path = scr\n",
    "    file_drop_path = dcr\n",
    "    shutil.copyfile(file_resive_path, file_drop_path)\n",
    "    data = \"done move file\"\n",
    "    return data\n",
    "# a = \"C:/Users/pushp/Desktop/python_copy_data/vvv21.txt\"\n",
    "# b = \"C:/Users/pushp/Desktop/vvv21.txt\"\n",
    "# movefunction(b,a)"
   ]
  },
  {
   "cell_type": "code",
   "execution_count": null,
   "metadata": {},
   "outputs": [],
   "source": [
    "work_opetions = (input(\"what is work in program like copy and move file  :-  \", ))\n",
    "print(type(work_opetions))\n",
    "compresin1 = \"copy\"\n",
    "compresin2 = \"move\"\n",
    "compresin3 = [\"copy\",\"move\"]\n",
    "if work_opetions in compresin3:\n",
    "    if work_opetions == compresin1:\n",
    "        print(\"copy & move\")\n",
    "        scr = (input(\"fill your file dir path :- \", ))\n",
    "        dcr = (input(\"fill your file drop path  :- \", ))    \n",
    "        copyfuction(scr, dcr)\n",
    "        print(\"done copy\")\n",
    "    elif work_opetions == compresin2:\n",
    "        scr = (input(\"fill your file dir path :- \", ))\n",
    "        dcr = (input(\"fill your file drop path  :- \", ))\n",
    "        movefunction(scr,dcr)\n",
    "        print(\"Done move file\")\n",
    "        \n",
    "else:\n",
    "    print(\"somthing wrong 1\")"
   ]
  },
  {
   "cell_type": "code",
   "execution_count": null,
   "metadata": {},
   "outputs": [],
   "source": [
    "     try:\n",
    "         if compresin1 == work_opetions:\n",
    "             print(\"copy\")\n",
    "#     #     else:\n",
    "#     #         print(\"somting wrong 1\")\n",
    "     except:\n",
    "         if compresin2 == work_opetions:\n",
    "            print(\"move ram\")\n",
    "         else:\n",
    "             print(\"somting wrong 2\")"
   ]
  },
  {
   "cell_type": "code",
   "execution_count": null,
   "metadata": {},
   "outputs": [],
   "source": [
    "http://localhost:8888/notebooks/Untitled.ipynb#copy,-move-multiple-file-any-file-like-(.pdf,-.txt,-.jpg,-png,-.mp4,-.mp3,-more-then-files)"
   ]
  },
  {
   "cell_type": "code",
   "execution_count": null,
   "metadata": {},
   "outputs": [],
   "source": []
  },
  {
   "cell_type": "raw",
   "metadata": {},
   "source": [
    "# copy, move multiple file \n",
    "# file like (.pdf, .txt, .jpg, png, .mp4, .mp3, more then files)"
   ]
  },
  {
   "cell_type": "code",
   "execution_count": null,
   "metadata": {},
   "outputs": [],
   "source": []
  },
  {
   "cell_type": "code",
   "execution_count": 3,
   "metadata": {},
   "outputs": [],
   "source": [
    "import glob"
   ]
  },
  {
   "cell_type": "code",
   "execution_count": null,
   "metadata": {},
   "outputs": [],
   "source": []
  },
  {
   "cell_type": "code",
   "execution_count": 9,
   "metadata": {},
   "outputs": [
    {
     "name": "stdout",
     "output_type": "stream",
     "text": [
      "which file (like .pdf, .txt, .png, .mp4, .... )pdf\n",
      "insert path  : -   c:/users/pushp/desktop/\n",
      "pdf\n",
      "['Agreement.pdf', 'FINRA Non Employee Questionnaire_NAM_FINAL.pdf', 'FINRA Non Employee Questionnaire_NAM_FINAL1.pdf', 'FINRA Non Employee Questionnaire_NAM_FINAL_n1.pdf', 'Non Employee ABC Disclosure Questionnaire_2017.pdf', 'vick.pdf']\n",
      " drop pathc:/users/pushp/desktop/python_copy_data/\n",
      "done\n"
     ]
    }
   ],
   "source": [
    "# c:/users/pushp/desktop/python_copy_data/\n",
    "which_file = (input( \"which file (like .pdf, .txt, .png, .mp4, .... )\", ))\n",
    "path_dir = (input(\"insert path  : -   \", ))\n",
    "result = os.chdir(path_dir)\n",
    "list_file = [ ]\n",
    "print(which_file)\n",
    "for file in glob.glob(\"*.{}\".format(which_file)):\n",
    "        list_file.append(file)\n",
    "\n",
    "print(list_file)\n",
    "det = (input(\" drop path\", ))\n",
    "for file1 in list_file:\n",
    "    shutil.copy(file1, det)\n",
    "print(\"done\")"
   ]
  },
  {
   "cell_type": "code",
   "execution_count": null,
   "metadata": {},
   "outputs": [],
   "source": []
  }
 ],
 "metadata": {
  "kernelspec": {
   "display_name": "Python 3",
   "language": "python",
   "name": "python3"
  },
  "language_info": {
   "codemirror_mode": {
    "name": "ipython",
    "version": 3
   },
   "file_extension": ".py",
   "mimetype": "text/x-python",
   "name": "python",
   "nbconvert_exporter": "python",
   "pygments_lexer": "ipython3",
   "version": "3.8.5"
  }
 },
 "nbformat": 4,
 "nbformat_minor": 4
}
