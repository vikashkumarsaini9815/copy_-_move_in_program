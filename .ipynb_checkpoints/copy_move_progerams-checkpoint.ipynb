{
 "cells": [
  {
   "cell_type": "markdown",
   "metadata": {},
   "source": [
    "# How to copy , move and create dir in python program"
   ]
  },
  {
   "cell_type": "code",
   "execution_count": 2,
   "metadata": {},
   "outputs": [],
   "source": [
    "import os, shutil, glob"
   ]
  },
  {
   "cell_type": "code",
   "execution_count": null,
   "metadata": {},
   "outputs": [],
   "source": []
  },
  {
   "cell_type": "code",
   "execution_count": 6,
   "metadata": {},
   "outputs": [
    {
     "name": "stdout",
     "output_type": "stream",
     "text": [
      "current working directory :-   C:\\Users\\pushp\\PycharmProjects\\copy_move_python_program\n"
     ]
    }
   ],
   "source": [
    "find_path = os.getcwd()\n",
    "print(\"current working directory :-  \", find_path)"
   ]
  },
  {
   "cell_type": "code",
   "execution_count": null,
   "metadata": {},
   "outputs": [],
   "source": []
  },
  {
   "cell_type": "code",
   "execution_count": 7,
   "metadata": {},
   "outputs": [
    {
     "name": "stdout",
     "output_type": "stream",
     "text": [
      "change working directory None\n"
     ]
    }
   ],
   "source": [
    "change_path = os.chdir('C:/Users/pushp/desktop/alls_data/') \n",
    "print(\"change working directory\", change_path)"
   ]
  },
  {
   "cell_type": "code",
   "execution_count": null,
   "metadata": {},
   "outputs": [],
   "source": []
  },
  {
   "cell_type": "raw",
   "metadata": {},
   "source": [
    "#  copy, move  only one file any  \n",
    "#  file like (.pdf, .txt, .jpg, png, .mp4, .mp3, more then files)\n"
   ]
  },
  {
   "cell_type": "code",
   "execution_count": null,
   "metadata": {},
   "outputs": [],
   "source": [
    "def copyfuction(scr, dcr):\n",
    "    file_resive_path = scr\n",
    "    file_drop_path = dcr\n",
    "    shutil.copyfile(file_resive_path, file_drop_path)\n",
    "    data = \"done copy file\"\n",
    "    return data\n",
    "\n",
    "#copyfuction(scr = \"C:/Users/pushp/Desktop/python_copy_data/cc.txt\", dcr = \"C:/Users/pushp/Desktop/vvv25.txt\")"
   ]
  },
  {
   "cell_type": "code",
   "execution_count": null,
   "metadata": {},
   "outputs": [],
   "source": [
    "def movefunction(scr,dcr):\n",
    "    file_resive_path = scr\n",
    "    file_drop_path = dcr\n",
    "    shutil.copyfile(file_resive_path, file_drop_path)\n",
    "    data = \"done move file\"\n",
    "    return data\n",
    "# a = \"C:/Users/pushp/Desktop/python_copy_data/vvv21.txt\"\n",
    "# b = \"C:/Users/pushp/Desktop/vvv21.txt\"\n",
    "# movefunction(b,a)"
   ]
  },
  {
   "cell_type": "code",
   "execution_count": null,
   "metadata": {},
   "outputs": [],
   "source": [
    "work_opetions = (input(\"what is work in program like copy and move file  :-  \", ))\n",
    "print(type(work_opetions))\n",
    "compresin1 = \"copy\"\n",
    "compresin2 = \"move\"\n",
    "compresin3 = [\"copy\",\"move\"]\n",
    "if work_opetions in compresin3:\n",
    "    if work_opetions == compresin1:\n",
    "        print(\"copy & move\")\n",
    "        scr = (input(\"fill your file dir path :- \", ))\n",
    "        dcr = (input(\"fill your file drop path  :- \", ))    \n",
    "        copyfuction(scr, dcr)\n",
    "        print(\"done copy\")\n",
    "    elif work_opetions == compresin2:\n",
    "        scr = (input(\"fill your file dir path :- \", ))\n",
    "        dcr = (input(\"fill your file drop path  :- \", ))\n",
    "        movefunction(scr,dcr)\n",
    "        print(\"Done move file\")\n",
    "        \n",
    "else:\n",
    "    print(\"somthing wrong 1\")"
   ]
  },
  {
   "cell_type": "code",
   "execution_count": null,
   "metadata": {},
   "outputs": [],
   "source": [
    "     try:\n",
    "         if compresin1 == work_opetions:\n",
    "             print(\"copy\")\n",
    "#     #     else:\n",
    "#     #         print(\"somting wrong 1\")\n",
    "     except:\n",
    "         if compresin2 == work_opetions:\n",
    "            print(\"move ram\")\n",
    "         else:\n",
    "             print(\"somting wrong 2\")"
   ]
  },
  {
   "cell_type": "code",
   "execution_count": null,
   "metadata": {},
   "outputs": [],
   "source": [
    "http://localhost:8888/notebooks/Untitled.ipynb#copy,-move-multiple-file-any-file-like-(.pdf,-.txt,-.jpg,-png,-.mp4,-.mp3,-more-then-files)"
   ]
  },
  {
   "cell_type": "code",
   "execution_count": null,
   "metadata": {},
   "outputs": [],
   "source": []
  },
  {
   "cell_type": "code",
   "execution_count": null,
   "metadata": {},
   "outputs": [],
   "source": []
  },
  {
   "cell_type": "code",
   "execution_count": null,
   "metadata": {},
   "outputs": [],
   "source": []
  },
  {
   "cell_type": "code",
   "execution_count": null,
   "metadata": {},
   "outputs": [],
   "source": []
  },
  {
   "cell_type": "code",
   "execution_count": null,
   "metadata": {},
   "outputs": [],
   "source": []
  },
  {
   "cell_type": "code",
   "execution_count": null,
   "metadata": {},
   "outputs": [],
   "source": []
  },
  {
   "cell_type": "code",
   "execution_count": null,
   "metadata": {},
   "outputs": [],
   "source": []
  },
  {
   "cell_type": "code",
   "execution_count": null,
   "metadata": {},
   "outputs": [],
   "source": []
  },
  {
   "cell_type": "code",
   "execution_count": null,
   "metadata": {},
   "outputs": [],
   "source": []
  },
  {
   "cell_type": "code",
   "execution_count": null,
   "metadata": {},
   "outputs": [],
   "source": []
  },
  {
   "cell_type": "code",
   "execution_count": null,
   "metadata": {},
   "outputs": [],
   "source": []
  },
  {
   "cell_type": "raw",
   "metadata": {},
   "source": [
    "# copy, move multiple file \n",
    "# file like (.pdf, .txt, .jpg, png, .mp4, .mp3, more then files)"
   ]
  },
  {
   "cell_type": "code",
   "execution_count": null,
   "metadata": {},
   "outputs": [],
   "source": []
  },
  {
   "cell_type": "code",
   "execution_count": null,
   "metadata": {},
   "outputs": [],
   "source": []
  },
  {
   "cell_type": "code",
   "execution_count": null,
   "metadata": {},
   "outputs": [],
   "source": []
  },
  {
   "cell_type": "code",
   "execution_count": null,
   "metadata": {},
   "outputs": [],
   "source": [
    "# c:/users/pushp/desktop/python_copy_data/\n",
    "which_file = (input( \"which file (like .pdf, .txt, .png, .mp4, .... )\", ))\n",
    "path_dir = (input(\"insert path  : -   \", ))\n",
    "result = os.chdir(path_dir)\n",
    "list_file = [ ]\n",
    "print(which_file)\n",
    "for file in glob.glob(\"*.{}\".format(which_file)):\n",
    "        list_file.append(file)\n",
    "\n",
    "print(list_file)\n",
    "det = (input(\" drop path\", ))\n",
    "for file1 in list_file:\n",
    "    shutil.copy(file1, det)\n",
    "print(\"done\")"
   ]
  },
  {
   "cell_type": "code",
   "execution_count": null,
   "metadata": {},
   "outputs": [],
   "source": []
  },
  {
   "cell_type": "code",
   "execution_count": null,
   "metadata": {},
   "outputs": [],
   "source": []
  },
  {
   "cell_type": "code",
   "execution_count": null,
   "metadata": {},
   "outputs": [],
   "source": [
    "# c:/users/pushp/desktop/python_copy_data/\n",
    "# c:/users/pushp/desktop/New Folder/\n",
    "# which_file = (input( \"which file (like .pdf, .txt, .png, .mp4, .... )\", ))\n",
    "path_dir = (input(\"insert path  : -   \", ))\n",
    "result = os.chdir(path_dir)\n",
    "list_file = [ ]\n",
    "file_type = (\"*.pdf\", \"*.txt\", \"*.xlsx\", \"*.jpg\", \"*.pub\", \"*.accdb\", \"*.bmp\", \"*.docx\", \"*.pptx\")\n",
    "for file in file_type:\n",
    "    print(file)\n",
    "        #list_file.append(glob.glob(file))\n",
    "\n",
    "print(type(list_file))\n",
    "# det = (input(\" drop path\", ))\n",
    "# for file1 in list_file:\n",
    "#     shutil.copy(file1, det)\n",
    "# print(\"done\")"
   ]
  },
  {
   "cell_type": "code",
   "execution_count": null,
   "metadata": {},
   "outputs": [],
   "source": []
  },
  {
   "cell_type": "code",
   "execution_count": 3,
   "metadata": {},
   "outputs": [
    {
     "data": {
      "text/plain": [
       "['dfghh.txt', 'Yogesh']"
      ]
     },
     "execution_count": 3,
     "metadata": {},
     "output_type": "execute_result"
    }
   ],
   "source": [
    "os.listdir('C:/Users/pushp/desktop/alls_data/Nikhil/')"
   ]
  },
  {
   "cell_type": "code",
   "execution_count": 16,
   "metadata": {},
   "outputs": [
    {
     "name": "stdout",
     "output_type": "stream",
     "text": [
      "test 1 ('C:/Users/pushp/desktop/alls_data/Nikhil/', ['Yogesh'], ['dfghh.txt'])\n",
      "test 1 ('C:/Users/pushp/desktop/alls_data/Nikhil/Yogesh', ['vikash'], [])\n",
      "test 1 ('C:/Users/pushp/desktop/alls_data/Nikhil/Yogesh\\\\vikash', [], ['jhjk.txt', 'ramu.txt'])\n"
     ]
    }
   ],
   "source": [
    "w = os.walk('C:/Users/pushp/desktop/alls_data/Nikhil/')\n",
    "list_file = []\n",
    "for i in w:\n",
    "    print(\"test 1\", i)\n",
    "    s\n",
    "    splitpath = ss.split(\"desktop/\")"
   ]
  },
  {
   "cell_type": "code",
   "execution_count": null,
   "metadata": {},
   "outputs": [],
   "source": []
  },
  {
   "cell_type": "code",
   "execution_count": null,
   "metadata": {},
   "outputs": [],
   "source": []
  }
 ],
 "metadata": {
  "kernelspec": {
   "display_name": "Python 3",
   "language": "python",
   "name": "python3"
  },
  "language_info": {
   "codemirror_mode": {
    "name": "ipython",
    "version": 3
   },
   "file_extension": ".py",
   "mimetype": "text/x-python",
   "name": "python",
   "nbconvert_exporter": "python",
   "pygments_lexer": "ipython3",
   "version": "3.8.5"
  }
 },
 "nbformat": 4,
 "nbformat_minor": 4
}
